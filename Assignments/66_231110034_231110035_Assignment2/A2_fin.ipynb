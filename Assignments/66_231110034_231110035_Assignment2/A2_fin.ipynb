{
 "cells": [
  {
   "cell_type": "code",
   "execution_count": null,
   "id": "90a78073",
   "metadata": {},
   "outputs": [],
   "source": [
    "#make sure to run this notebook in a trusted workspace/folder\n",
    "#i have run this notebook on vscode (python ver. 3.11.4)"
   ]
  },
  {
   "cell_type": "code",
   "execution_count": null,
   "id": "81263fec",
   "metadata": {},
   "outputs": [],
   "source": [
    "from vtk import *\n",
    "import ipywidgets as widgets\n",
    "import plotly.graph_objects as go\n",
    "from plotly.subplots import make_subplots\n",
    "from IPython.display import display, clear_output"
   ]
  },
  {
   "cell_type": "code",
   "execution_count": null,
   "id": "35f70add",
   "metadata": {},
   "outputs": [],
   "source": [
    "reader = vtkXMLImageDataReader()\n",
    "reader.SetFileName('mixture.vti')\n",
    "reader.Update()\n",
    "data = reader.GetOutput()"
   ]
  },
  {
   "cell_type": "code",
   "execution_count": null,
   "id": "44f80f9f",
   "metadata": {},
   "outputs": [],
   "source": [
    "num_points = data.GetNumberOfPoints()"
   ]
  },
  {
   "cell_type": "code",
   "execution_count": null,
   "id": "5c82c80b",
   "metadata": {},
   "outputs": [],
   "source": [
    "num_points"
   ]
  },
  {
   "cell_type": "code",
   "execution_count": null,
   "id": "09d19b89",
   "metadata": {},
   "outputs": [],
   "source": [
    "ImageFile = data.GetPointData().GetArray('ImageFile')"
   ]
  },
  {
   "cell_type": "code",
   "execution_count": null,
   "id": "f906cf23",
   "metadata": {},
   "outputs": [],
   "source": [
    "#Creating point coordinate lists\n",
    "x = []\n",
    "y = []\n",
    "z = []\n",
    "for i in range(num_points):\n",
    "    points = data.GetPoint(i)\n",
    "    x.append(points[0])\n",
    "    y.append(points[1])    \n",
    "    z.append(points[2])    \n"
   ]
  },
  {
   "cell_type": "code",
   "execution_count": null,
   "id": "bfbc64e2",
   "metadata": {},
   "outputs": [],
   "source": [
    "#Creating list of values\n",
    "all_values = [ImageFile.GetValue(i) for i in range(num_points)]"
   ]
  },
  {
   "cell_type": "code",
   "execution_count": null,
   "id": "2eff986f",
   "metadata": {},
   "outputs": [],
   "source": [
    "# help(go.Isosurface.colorscale)"
   ]
  },
  {
   "cell_type": "code",
   "execution_count": null,
   "id": "05453105",
   "metadata": {},
   "outputs": [],
   "source": [
    "#Creating isosurface_viz i.e. the first diagram\n",
    "isosurface_viz = go.Figure(data = go.Isosurface(\n",
    "    x = x,\n",
    "    y = y,\n",
    "    z = z,\n",
    "    value = all_values,\n",
    "    isomin = 0,\n",
    "    isomax = 0,\n",
    "    colorscale = 'plasma',   \n",
    "            #  'blackbody', 'bluered', 'blues', 'blugrn', 'bluyl', 'brbg',\n",
    "            #  'brwnyl', 'bugn', 'bupu', 'burg', 'burgyl', 'cividis', 'curl',\n",
    "            #  'darkmint', 'deep', 'delta', 'dense', 'earth', 'edge', 'electric',\n",
    "            #  'emrld', 'fall', 'geyser', 'gnbu', 'gray', 'greens', 'greys',\n",
    "            #  'haline', 'hot', 'hsv', 'ice', 'icefire', 'inferno', 'jet',\n",
    "            #  'magenta', 'magma', 'matter', 'mint', 'mrybm', 'mygbm', 'oranges',\n",
    "            #  'orrd', 'oryel', 'oxy', 'peach', 'phase', 'picnic', 'pinkyl',\n",
    "            #  'piyg', 'plasma', 'plotly3', 'portland', 'prgn', 'pubu', 'pubugn',\n",
    "            #  'puor', 'purd', 'purp', 'purples', 'purpor', 'rainbow', 'rdbu',\n",
    "            #  'rdgy', 'rdpu', 'rdylbu', 'rdylgn', 'redor', 'reds', 'solar',\n",
    "            #  'spectral', 'speed', 'sunset', 'sunsetdark', 'teal', 'tealgrn',\n",
    "            #  'tealrose', 'tempo', 'temps', 'thermal', 'tropic', 'turbid',\n",
    "            #  'turbo', 'twilight', 'viridis', 'ylgn', 'ylgnbu', 'ylorbr',\n",
    "            #  'ylorrd'\n",
    "    showscale = False,\n",
    "    cmin = min(all_values),\n",
    "    cmax = max(all_values),\n",
    "    opacity = 1,\n",
    "))"
   ]
  },
  {
   "cell_type": "code",
   "execution_count": null,
   "id": "5da70af4",
   "metadata": {},
   "outputs": [],
   "source": [
    "#Creating histogram_viz i.e. the second diagram\n",
    "histogram_viz = go.Figure(data = [go.Histogram(x = all_values, nbinsx = 30)]) #nbinsx=30 according to the sample showed in question\n",
    "clear_output()"
   ]
  },
  {
   "cell_type": "code",
   "execution_count": null,
   "id": "7184cf3a",
   "metadata": {},
   "outputs": [],
   "source": [
    "#Defining reset function\n",
    "def reset_button(reset):\n",
    "\n",
    "    slider_bar.value = 0 #isovalue back to 0\n",
    "    isosurface_viz.update_traces(\n",
    "        isomin = 0,\n",
    "        isomax = 0\n",
    "    )\n",
    "\n",
    "    histogram_viz.data[0].x = all_values #Histogram on whole data \n",
    "    \n",
    "    clear_output() #Clearing old output\n",
    "    display(layout) #Displaying slider and reset button\n",
    "    \n",
    "    viz = make_subplots(rows=1, cols=2,specs=[[{'type':'surface'},{'type':'bar'}]])\n",
    "    \n",
    "    viz.add_trace(isosurface_viz.data[0], row = 1, col = 1)\n",
    "    viz.add_trace(histogram_viz.data[0], row = 1, col = 2)\n",
    "\n",
    "    viz.update_layout(\n",
    "        xaxis_title = 'Vortex scalar values', \n",
    "        yaxis_title = 'Frequency',\n",
    "        scene = dict(\n",
    "        xaxis = dict(showticklabels = False),\n",
    "        yaxis = dict(showticklabels = False),\n",
    "        zaxis = dict(showticklabels = False),\n",
    "        ))\n",
    "    \n",
    "    viz.show()\n",
    "    \n",
    "\n",
    "    "
   ]
  },
  {
   "cell_type": "code",
   "execution_count": null,
   "id": "6f55d3be",
   "metadata": {},
   "outputs": [],
   "source": [
    "#Defining update function\n",
    "def update_data(updated):\n",
    "    \n",
    "    clear_output() #Clearing old output\n",
    "\n",
    "    isovalue = updated.new\n",
    "    isosurface_viz.update_traces(\n",
    "        isomin = isovalue,\n",
    "        isomax = isovalue\n",
    "    )\n",
    "\n",
    "    histogram_viz.data[0].x = [item for item in all_values if item >= isovalue - 0.25 and item <= isovalue + 0.25]   #Selecting data for histogram according to given condition\n",
    "        \n",
    "    display(layout) #Displaying slider and reset button\n",
    "    \n",
    "    viz = make_subplots(rows=1, cols=2, specs=[[{'type':'surface'}, {'type':'bar'}]])\n",
    "\n",
    "    viz.add_trace(isosurface_viz.data[0], row = 1, col = 1)\n",
    "    viz.add_trace(histogram_viz.data[0], row = 1, col = 2) \n",
    "\n",
    "    viz.update_layout(\n",
    "        xaxis_title = 'Vortex scalar values',\n",
    "        yaxis_title = 'Frequency',\n",
    "        scene = dict(\n",
    "        xaxis = dict(showticklabels = False),\n",
    "        yaxis = dict(showticklabels = False),\n",
    "        zaxis = dict(showticklabels = False),\n",
    "        ))\n",
    "    \n",
    "    viz.show()"
   ]
  },
  {
   "cell_type": "code",
   "execution_count": null,
   "id": "08ca2a2a",
   "metadata": {},
   "outputs": [],
   "source": [
    "#This cell might take a while to execute/update\n",
    "#If the kernel or IDE crashes. Please restart the whole program (not just the notebook)\n",
    "\n",
    "#Adding a slider widget\n",
    "slider_bar = widgets.FloatSlider(value = 0, min = min(all_values), max = max(all_values), step = 0.01, description = 'Isovalue ', continuous_update = False,)\n",
    "slider_bar.observe(update_data, names = 'value')\n",
    "slider_bar.layout.width = '400px'\n",
    "\n",
    "button = widgets.Button(description = \"Reset\")\n",
    "layout = widgets.HBox([slider_bar,button]) #Adding slider and reset button to layout\n",
    "display(layout) #Displaying slider and reset button\n",
    "\n",
    "button.on_click(reset_button)\n",
    "\n",
    "viz = make_subplots(rows = 1, cols = 2, specs = [[{'type':'surface'},{'type':'bar'}]])\n",
    "\n",
    "viz.add_trace(isosurface_viz.data[0], row = 1, col = 1)\n",
    "viz.add_trace(histogram_viz.data[0], row = 1, col = 2)\n",
    "\n",
    "viz.update_layout(\n",
    "    xaxis_title = 'Vortex scalar values',\n",
    "    yaxis_title = 'Frequency',\n",
    "    scene = dict(\n",
    "    xaxis = dict(showticklabels = False),\n",
    "    yaxis = dict(showticklabels = False),\n",
    "    zaxis = dict(showticklabels = False),\n",
    "    ))\n",
    "\n",
    "viz.show()\n",
    "\n"
   ]
  }
 ],
 "metadata": {
  "kernelspec": {
   "display_name": "Python 3 (ipykernel)",
   "language": "python",
   "name": "python3"
  },
  "language_info": {
   "codemirror_mode": {
    "name": "ipython",
    "version": 3
   },
   "file_extension": ".py",
   "mimetype": "text/x-python",
   "name": "python",
   "nbconvert_exporter": "python",
   "pygments_lexer": "ipython3",
   "version": "3.11.4"
  }
 },
 "nbformat": 4,
 "nbformat_minor": 5
}
